{
 "cells": [
  {
   "cell_type": "code",
   "execution_count": 6,
   "id": "cabcdef9-8774-4447-8695-b724dd005d15",
   "metadata": {},
   "outputs": [],
   "source": [
    "import sys\n",
    "import base64\n",
    "import zlib\n",
    "from IPython.display import Image,display,SVG"
   ]
  },
  {
   "cell_type": "code",
   "execution_count": 7,
   "id": "14a58562-90ee-405e-b82e-3c27370c11e8",
   "metadata": {},
   "outputs": [],
   "source": [
    "def mm(diagram):\n",
    "    encoded_diagram = base64.urlsafe_b64encode(zlib.compress(diagram.encode('utf-8'), 9)).decode('ascii')\n",
    "    dia_url = f'https://kroki.io/mermaid/svg/{encoded_diagram}'\n",
    "    display(Image(url=dia_url))"
   ]
  },
  {
   "cell_type": "markdown",
   "id": "f76a4936-a93b-4dd0-b6be-aa1a4d7a2344",
   "metadata": {},
   "source": [
    "### Mapping out User Scenarios:\n",
    "One way to map out a few simple user scenarios is through mermaid diagram system:"
   ]
  },
  {
   "cell_type": "markdown",
   "id": "b46aba5d-0663-473f-824b-200e4142b9c9",
   "metadata": {},
   "source": [
    "Samnple chat log:\n",
    "* Start(User opens chat)\n",
    "* Start --> Greet[Chatbot: \"Hi! Need help with your running?\"\n",
    "* Greet --> User: \"How should I train for a 5K?\"\n",
    "* UserQ --> Botprocess=Chatbot analyzes goal and user data\n",
    "* BotProcess --> Advice: Chatbot: \"Start with 3 runs/week, mix distance and speed.\"\n",
    "* Advice --> FollowUp: User has another question?\n",
    "* FollowUp -- Yes --> NewQ= User: \"Should I stretch before or after?\"\n",
    "* NewQ --> StretchAdvice= Chatbot: \"Both! Dynamic before, static after.\"\n",
    "* StretchAdvice --> EndQ=More questions?\n",
    "* EndQ -- No --> Goodbye=Chatbot: \"Good luck! Let me know how it goes.\"\n",
    "* FollowUp -- No --> Goodbye\n",
    "\n",
    "> Integrate into mermaid diagram..."
   ]
  },
  {
   "cell_type": "markdown",
   "id": "ecc6b131-1368-4c60-87fa-39e56281cc87",
   "metadata": {},
   "source": [
    "### Scenario 1: Question about recovery/gradual reintroduction to running post injury:"
   ]
  },
  {
   "cell_type": "code",
   "execution_count": 11,
   "id": "87eebd80-7840-4cee-a8a4-5c0795bc3191",
   "metadata": {},
   "outputs": [
    {
     "data": {
      "text/html": [
       "<img src=\"https://kroki.io/mermaid/svg/eNptUU1LAzEQvfdXvJMfUAWvFVoED3puRa_T7Gw3bjazTrIu6693slWqYmAgIS_vK4vEbwNHx_eeDkrd7QK2nhLr1Xp9d-CYV3g870AR1FHmQaFDjKxw0vl4gNS1DXx8HXS6xnNDGamRIVTIjU8YmdsCKK8KPoi0CL7lzaw0S5hUUVzhQUYDGCp5s4RJBgRKGUpx84-xXaPMs0L6RbYTCTcrbJnUNXa_XyJNMTec_Aej9rEyJwm1KLIy5eLLwthxjuH5SDfTnNS21PWBUVGm-Sk5J1qYkAUvUE5HvZ56q6cg9mzerdVqoGD3PmaVanDZS0SvZBvHRxtf7fxIceqElUFlrDbjsy4NwGqUfzjYyTvrtMRFsdb1FD1X2E-XOPs2P__G6HNjMXyYsLf4bSVjXHwC0tmzdA==\"/>"
      ],
      "text/plain": [
       "<IPython.core.display.Image object>"
      ]
     },
     "metadata": {},
     "output_type": "display_data"
    }
   ],
   "source": [
    "### Tool1 might be a data base of research papers/other internet information for best recovery practices\n",
    "\n",
    "scenario1 = '''\n",
    "sequenceDiagram;\n",
    "    User->>Agent: I'm an amateur runner coming off of injury. What should this week of running look like?\n",
    "    Agent->>User: How long since you last ran?\n",
    "    User->>Agent: Three weeks\n",
    "    Agent->>Tool1: Search web, synthesize findings for treating minor injuries\n",
    "    Tool1->>Agent: Sample data for according to X research paper for best gradual reintroduction practices for running\n",
    "    Agent-->>User: Here are a list of general practices for recovery, (accompanied by) & Sample week with daily breakdown\n",
    "'''\n",
    "mm(scenario1)"
   ]
  },
  {
   "cell_type": "markdown",
   "id": "b57c76d6-11ce-428e-82dd-491352001fd2",
   "metadata": {},
   "source": [
    "* Sample weekly breakdown (output) might include: light running X number of days, cross train Y days, rest Z days"
   ]
  },
  {
   "cell_type": "markdown",
   "id": "1ed96d57-529f-4759-aa1e-faf8873bff89",
   "metadata": {},
   "source": [
    "### Scenario 2: ..."
   ]
  },
  {
   "cell_type": "code",
   "execution_count": null,
   "id": "9f98fcbb-7835-443f-93b8-476d36f2bebf",
   "metadata": {},
   "outputs": [],
   "source": []
  }
 ],
 "metadata": {
  "kernelspec": {
   "display_name": "Python 3-12 (COMM4190)",
   "language": "python",
   "name": "python3-12_comm4190"
  },
  "language_info": {
   "codemirror_mode": {
    "name": "ipython",
    "version": 3
   },
   "file_extension": ".py",
   "mimetype": "text/x-python",
   "name": "python",
   "nbconvert_exporter": "python",
   "pygments_lexer": "ipython3",
   "version": "3.12.8"
  }
 },
 "nbformat": 4,
 "nbformat_minor": 5
}
