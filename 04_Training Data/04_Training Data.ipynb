{
 "cells": [
  {
   "cell_type": "markdown",
   "id": "ec8f9d84-e3d3-4609-be56-337ceb00d308",
   "metadata": {},
   "source": [
    "* This will include more specific data that the LLM will be trained on, include a langchain, etc."
   ]
  },
  {
   "cell_type": "markdown",
   "id": "69bfba87-7d1f-45ea-b830-3486b8aafec0",
   "metadata": {},
   "source": [
    "### Premise:\n",
    "The idea behind this application is it's access to specific user training data, which would be given & recorded by another application. As athletes ourselves, we have access to this kind of data ourselves, and so we can provide sample data files of the kind of data the application would need:"
   ]
  },
  {
   "cell_type": "markdown",
   "id": "5f3ded32-f412-4b38-87d8-a7e17a0029bf",
   "metadata": {},
   "source": [
    "### Example 1: \n",
    "\n",
    "* This is the associated statistics for a sample run that our app might need to answer a user question\n",
    "  * This information is available with the Garmin Connect App\n",
    "\n",
    "<img src=\"sample_run_1.png\" width=\"90%\"/>"
   ]
  },
  {
   "cell_type": "markdown",
   "id": "e70b6f43-0138-458d-9b1f-1f9c60721eb3",
   "metadata": {},
   "source": [
    "* This is a chart displaying Heart Rate Zones throughout the run:\n",
    "<img src=\"heart_rates_1.png\" width=\"90%\"/>"
   ]
  },
  {
   "cell_type": "markdown",
   "id": "7783caac-cc90-4816-a68b-822f6fa0d3cf",
   "metadata": {},
   "source": [
    "* An associated pace chart with specific times, heart rates, cadence, etc. per lap is contained within the following csv file:"
   ]
  },
  {
   "cell_type": "code",
   "execution_count": 1,
   "id": "05a05d9d-b18e-421a-a122-eda94e27ce3f",
   "metadata": {},
   "outputs": [],
   "source": [
    "### input sample run 1 csv"
   ]
  },
  {
   "cell_type": "code",
   "execution_count": null,
   "id": "bf9af63e-ce61-4faf-80ce-1608509c56c0",
   "metadata": {},
   "outputs": [],
   "source": []
  }
 ],
 "metadata": {
  "citation-manager": {
   "items": {}
  },
  "kernelspec": {
   "display_name": "Python 3 (ipykernel)",
   "language": "python",
   "name": "python3"
  },
  "language_info": {
   "codemirror_mode": {
    "name": "ipython",
    "version": 3
   },
   "file_extension": ".py",
   "mimetype": "text/x-python",
   "name": "python",
   "nbconvert_exporter": "python",
   "pygments_lexer": "ipython3",
   "version": "3.10.12"
  }
 },
 "nbformat": 4,
 "nbformat_minor": 5
}
