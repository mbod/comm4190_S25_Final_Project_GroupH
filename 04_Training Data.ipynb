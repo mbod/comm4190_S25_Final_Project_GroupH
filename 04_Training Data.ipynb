{
 "cells": [
  {
   "cell_type": "markdown",
   "id": "ec8f9d84-e3d3-4609-be56-337ceb00d308",
   "metadata": {},
   "source": [
    "* This will include more specific data that the LLM will be trained on, include a langchain, etc."
   ]
  },
  {
   "cell_type": "code",
   "execution_count": null,
   "id": "c1ca0cc2-ad90-41eb-a1fa-a04a00cb3410",
   "metadata": {},
   "outputs": [],
   "source": []
  }
 ],
 "metadata": {
  "citation-manager": {
   "items": {}
  },
  "kernelspec": {
   "display_name": "Python 3 (ipykernel)",
   "language": "python",
   "name": "python3"
  },
  "language_info": {
   "codemirror_mode": {
    "name": "ipython",
    "version": 3
   },
   "file_extension": ".py",
   "mimetype": "text/x-python",
   "name": "python",
   "nbconvert_exporter": "python",
   "pygments_lexer": "ipython3",
   "version": "3.10.12"
  }
 },
 "nbformat": 4,
 "nbformat_minor": 5
}
