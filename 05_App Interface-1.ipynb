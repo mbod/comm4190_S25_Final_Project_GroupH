{
 "cells": [
  {
   "cell_type": "markdown",
   "id": "999f8ed3-4f31-44d0-9a76-44113f805d32",
   "metadata": {},
   "source": [
    "* Potential, prelim/simple interface that the app might look like\n",
    "* Idea:\n",
    "    * Application would be a chat-bot\n",
    "    * Integrated into health tracker apps like: Garmin Connect, Apple's (built-in) Health App, Strava, Fitbit\n",
    "    * Intention is to interact with the data (i.e. heart rates, paces, etc.) within these kind of running applications, that the LLM app can access and interact with to answer user questions"
   ]
  },
  {
   "cell_type": "code",
   "execution_count": null,
   "id": "78ecf01b-8f84-47ca-96bd-67329be458d2",
   "metadata": {},
   "outputs": [],
   "source": []
  }
 ],
 "metadata": {
  "citation-manager": {
   "items": {}
  },
  "kernelspec": {
   "display_name": "Python 3 (ipykernel)",
   "language": "python",
   "name": "python3"
  },
  "language_info": {
   "codemirror_mode": {
    "name": "ipython",
    "version": 3
   },
   "file_extension": ".py",
   "mimetype": "text/x-python",
   "name": "python",
   "nbconvert_exporter": "python",
   "pygments_lexer": "ipython3",
   "version": "3.10.12"
  }
 },
 "nbformat": 4,
 "nbformat_minor": 5
}
